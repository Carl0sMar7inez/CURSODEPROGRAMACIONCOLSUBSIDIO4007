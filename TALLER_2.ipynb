{
  "nbformat": 4,
  "nbformat_minor": 0,
  "metadata": {
    "colab": {
      "provenance": []
    },
    "kernelspec": {
      "name": "python3",
      "display_name": "Python 3"
    },
    "language_info": {
      "name": "python"
    }
  },
  "cells": [
    {
      "cell_type": "markdown",
      "source": [
        "TALLER 2\n",
        "\n",
        "1. SI EL EMPLEADO ES MAYOR A 55 AÑOS DISFRUTARA DE UN BONO DE PREPENSION CORRESPONDINETE AL 5% DE SU SUELDO BASICO.\n"
      ],
      "metadata": {
        "id": "fDM98JNv_wbx"
      }
    },
    {
      "cell_type": "code",
      "source": [
        "edad = 55\n",
        "edad = input(\"digite su edad: \")\n",
        "print(edad)\n",
        "sueldobase = float(input(\"¿Digite cual es su sueldo base?: \"))\n",
        "sueldobase = 1000000\n",
        "bonopre = float(input(\"¿digite de cuanto es el bono prepensional?\"))\n",
        "bonopre = sueldobase * 0.5\n",
        "totalbonopre = (sueldobase + bonopre)\n",
        "totalbonopre = sueldobase + bonopre\n",
        "print(\"el sueldo base  es = {} y el total con el bono prepensional es = {}\".format(sueldobase, totalbonopre))\n",
        "print(f\"el sueldo base es {sueldobase} y el total con el bono prepensional  es = {totalbonopre}\")\n",
        "print(\"el sueldo base es = {:,.0f} y el total con el bono prespensional es = {:,.0f}\".format(sueldobase, totalbonopre))\n",
        "totalbonopre = float(input(\"¿digite de nuevo su edad ¿SI CUMPLE LA EDAD O NO CUMPLE LA EDAD,  para el bono prepensional?\"))\n",
        "if totalbonopre < 55:\n",
        "  estado = \"NO cumple la edad\"\n",
        "else:\n",
        "  estado = \" SI cumple la edad\"\n",
        "  print(\"el estado es = {}\".format(estado))\n",
        "  print(f\"el estado es = {estado}\")"
      ],
      "metadata": {
        "id": "V1j8P0VzAHq5",
        "colab": {
          "base_uri": "https://localhost:8080/"
        },
        "outputId": "b50b3bff-a283-4fa1-a4bd-f7c30df2f5f5"
      },
      "execution_count": null,
      "outputs": [
        {
          "output_type": "stream",
          "name": "stdout",
          "text": [
            "digite su edad: 99\n",
            "99\n",
            "¿Digite cual es su sueldo base?: 1000000\n",
            "¿digite de cuanto es el bono prepensional?0.5\n",
            "el sueldo base  es = 1000000 y el total con el bono prepensional es = 1500000.0\n",
            "el sueldo base es 1000000 y el total con el bono prepensional  es = 1500000.0\n",
            "el sueldo base es = 1,000,000 y el total con el bono prespensional es = 1,500,000\n",
            "¿digite de nuevo su edad ¿SI CUMPLE LA EDAD O NO CUMPLE LA EDAD,  para el bono prepensional?99\n",
            "el estado es =  SI cumple la edad\n",
            "el estado es =  SI cumple la edad\n"
          ]
        }
      ]
    },
    {
      "cell_type": "code",
      "source": [
        "edad = 55\n",
        "edad = input(\"digite su edad: \")\n",
        "print(edad)\n",
        "sueldobase = float(input(\"¿Digite cual es su sueldo base?: \"))\n",
        "sueldobase = 1000000\n",
        "bonopre = float(input(\"¿digite de cuanto es el bono prepensional?\"))\n",
        "bonopre = sueldobase * 0.5\n",
        "totalbonopre = (sueldobase + bonopre)\n",
        "totalbonopre = sueldobase + bonopre\n",
        "print(\"el sueldo base  es = {} y el total con el bono prepensional es = {}\".format(sueldobase, totalbonopre))\n",
        "print(f\"el sueldo base es {sueldobase} y el total con el bono prepensional  es = {totalbonopre}\")\n",
        "print(\"el sueldo base es = {:,.0f} y el total con el bono prespensional es = {:,.0f}\".format(sueldobase, totalbonopre))\n",
        "totalbonopre = float(input(\"¿digite de nuevo su edad ¿SI CUMPLE LA EDAD O NO CUMPLE LA EDAD,  para el bono prepensional?\"))\n",
        "if totalbonopre < 55:\n",
        "  estado = \"NO cumple la edad\"\n",
        "else:\n",
        "  estado = \" SI cumple la edad\"\n",
        "  print(\"el estado es = {}\".format(estado))\n",
        "  print(f\"el estado es = {estado}\")"
      ],
      "metadata": {
        "colab": {
          "base_uri": "https://localhost:8080/"
        },
        "outputId": "94d9128d-8429-4fdd-d3fc-0b7c2b8de0d9",
        "id": "g-aUuEnTmmJN"
      },
      "execution_count": null,
      "outputs": [
        {
          "name": "stdout",
          "output_type": "stream",
          "text": [
            "digite su edad: 54\n",
            "54\n",
            "¿Digite cual es su sueldo base?: 1000000\n",
            "¿digite de cuanto es el bono prepensional?0.5\n",
            "el sueldo base  es = 1000000 y el total con el bono prepensional es = 1500000.0\n",
            "el sueldo base es 1000000 y el total con el bono prepensional  es = 1500000.0\n",
            "el sueldo base es = 1,000,000 y el total con el bono prespensional es = 1,500,000\n",
            "¿digite de nuevo su edad ¿SI CUMPLE LA EDAD O NO CUMPLE LA EDAD,  para el bono prepensional?54\n"
          ]
        }
      ]
    },
    {
      "cell_type": "markdown",
      "source": [
        "::2. SI EL EMPLEADO ES CASADO Y TIENE HIJOS SE LE OTORGARA UN PASEO CADA DICIEMBRE."
      ],
      "metadata": {
        "id": "vSrwdtS4AIXG"
      }
    },
    {
      "cell_type": "code",
      "source": [
        "estadocivil = input(\"digite su estado cilvil: \")\n",
        "if estadocivil in \"casado con hijos\" :\n",
        "  estado = \"SI se le otorga paseo en dicimbre\"\n",
        "  print(\"casado y con hijos\")\n",
        "  print(\"el estado civil es = {} y el estado es = {}\".format(estadocivil, estado))\n",
        "  print(f\"el estado civil es = {estadocivil:} y el estado es = {estado:}\")\n",
        "else:\n",
        "  estado = \"NO se le otorga paseo en diciembre\"\n",
        "  print(\"soltero y sin hijos\")\n",
        "  print(\"el estado civil es = {} y el estado es = {}\".format(estadocivil, estado))\n",
        "  print(f\"el estado civil es = {estadocivil:} y el estado es = {estado:}\")"
      ],
      "metadata": {
        "id": "n_gDepIYlKeU",
        "colab": {
          "base_uri": "https://localhost:8080/"
        },
        "outputId": "75229535-cf6f-4cad-934c-7a745b3e88bf"
      },
      "execution_count": null,
      "outputs": [
        {
          "output_type": "stream",
          "name": "stdout",
          "text": [
            "digite su estado cilvil: casado\n",
            "casado y con hijos\n",
            "el estado civil es = casado y el estado es = SI se le otorga paseo en dicimbre\n",
            "el estado civil es = casado y el estado es = SI se le otorga paseo en dicimbre\n"
          ]
        }
      ]
    },
    {
      "cell_type": "code",
      "source": [
        "estadocivil = input(\"digite su estado cilvil: \")\n",
        "if estadocivil in \"casado con hijos\" :\n",
        "  estado = \"SI se le otorga paseo en dicimbre\"\n",
        "  print(\"casado con hijos\")\n",
        "  print(\"el estado civil es = {} y el estado es = {}\".format(estadocivil, estado))\n",
        "  print(f\"el estado civil es = {estadocivil:} y el estado es = {estado:}\")\n",
        "else:\n",
        "  estado = \"NO se le otorga paseo en diciembre\"\n",
        "  print(\"soltero  sin hijos\")\n",
        "  print(\"el estado civil es = {} y el estado es = {}\".format(estadocivil, estado))\n",
        "  print(f\"el estado civil es = {estadocivil:} y el estado es = {estado:}\")"
      ],
      "metadata": {
        "colab": {
          "base_uri": "https://localhost:8080/"
        },
        "outputId": "8bf4d779-568e-49cc-a987-74f6de98448b",
        "id": "yiMET0bOxV_i"
      },
      "execution_count": null,
      "outputs": [
        {
          "output_type": "stream",
          "name": "stdout",
          "text": [
            "digite su estado cilvil: soltero\n",
            "soltero sin hijos\n",
            "el estado civil es = soltero y el estado es = NO se le otorga paseo en diciembre\n",
            "el estado civil es = soltero y el estado es = NO se le otorga paseo en diciembre\n"
          ]
        }
      ]
    },
    {
      "cell_type": "markdown",
      "source": [
        "3. SI EL SUELDO BASICO ESTA ENTRE 1000000  Y   1500000 TENDRA UNA COMISION DEL 5% SOBRE EL VALOR DEL SUELDO; PARA TODOS LOS DEMAS CASOS NO HABRA COMISION.\n"
      ],
      "metadata": {
        "id": "uO8YfUbeATMQ"
      }
    },
    {
      "cell_type": "code",
      "source": [],
      "metadata": {
        "id": "CWfLdbuSBQCY"
      },
      "execution_count": null,
      "outputs": []
    },
    {
      "cell_type": "code",
      "source": [
        "sueldo1 = float(input(\"digite el valor del sueldo basico 1: \" ))\n",
        "sueldo1 = 1000000\n",
        "comision = float(input(\"la comision 1 es: \"))\n",
        "comision1 = sueldo1 * 0.5\n",
        "totalcomision1 = (sueldo1 + comision1)\n",
        "totalcomision1 = round((sueldo1 + comision1))\n",
        "print(\"el sueldo 1  es = {} y la comision total es = {}\".format(sueldo1, comision1))\n",
        "print(f\"el sueldo 1 es = {sueldo1} y la comision total es = {comision1}\")\n",
        "print(\"el sueldo 1 es = {:,.0f} y la comision total es = {:,.0f}\".format(sueldo1, comision1))\n",
        "if totalcomision1 < sueldo1:\n",
        "  estado = \"comision 1\"\n",
        "else:\n",
        "  print(\"Sueldo 1 es = {:,.0f} y el estado de la comision 1 del 5 % total es = {:,.0f}\".format(sueldo1, comision1))\n",
        "sueldo2 = float(input(\"digite el valor del sueldo basico 2: \"))\n",
        "sueldo2 = 1500000\n",
        "comision = float(input(\"la comision 2 es: \"))\n",
        "comision2 = sueldo2 * 0.5\n",
        "totalcomision2 = (sueldo2 + comision2)\n",
        "totalcomision2 = round((sueldo2 + comision2))\n",
        "print(\"el sueldo 2 es = {} y la comision total es = {}\".format(sueldo2, comision2))\n",
        "print(f\"el sueldo 2 es =  {sueldo2} y la comision total es = {comision2}\")\n",
        "print(\"el sueldo 2  es = {:,.0f} y la comision total es = {:,.0f}\".format(sueldo2, comision2))\n",
        "if totalcomision2 > sueldo2:\n",
        "  estado = \"comision2\" \n",
        "else:\n",
        "  print(f\"Sueldo 2 es = {sueldo2} y el estado de la comision 2 del 5 %  es = {comision2}\")"
      ],
      "metadata": {
        "colab": {
          "base_uri": "https://localhost:8080/"
        },
        "id": "yiheRFsgjTxx",
        "outputId": "6b6caad2-f366-4fa8-c556-de8c671fa2ea"
      },
      "execution_count": null,
      "outputs": [
        {
          "output_type": "stream",
          "name": "stdout",
          "text": [
            "digite el valor del sueldo basico 1: 1000000\n",
            "la comision 1 es: 0.5\n",
            "el sueldo 1  es = 1000000 y la comision total es = 500000.0\n",
            "el sueldo 1 es = 1000000 y la comision total es = 500000.0\n",
            "el sueldo 1 es = 1,000,000 y la comision total es = 500,000\n",
            "Sueldo 1 es = 1,000,000 y el estado de la comision 1 del 5 % total es = 500,000\n",
            "digite el valor del sueldo basico 2: 1500000\n",
            "la comision 2 es: 0.5\n",
            "el sueldo 2 es = 1500000 y la comision total es = 750000.0\n",
            "el sueldo 2 es =  1500000 y la comision total es = 750000.0\n",
            "el sueldo 2  es = 1,500,000 y la comision total es = 750,000\n"
          ]
        }
      ]
    },
    {
      "cell_type": "markdown",
      "source": [
        "4. SI EL EMPLEADO TRABAJO MAS DE 20 DIAS AL MES Y SU SUELDO ES MENOR A $1000000 TENDRA DERECHO A UN BONO DE ALIMENTACION."
      ],
      "metadata": {
        "id": "3yuY7UniBQgM"
      }
    },
    {
      "cell_type": "code",
      "source": [
        "sueldo = float(input(\"digite su salario\"))\n",
        "sueldomes= 1000000\n",
        "diasquetrabajo = float(input(\"digite los dias que trabajo al mes: \"))\n",
        "\n",
        "sueldototal = sueldo - diasquetrabajo\n",
        "sueldototal = sueldo - diasquetrabajo\n",
        "print(\"el sueldo mensual es = {} y los dias trabajados es = {}\".format(sueldo, diasquetrabajo))\n",
        "print(f\"el sueldo mensual es = {sueldo} y el sueldo total es = {sueldototal}\")\n",
        "print(\"el sueldo mensual es = {:,.0f} y el sueldo total es =  {:,.0f}\".format(sueldo, sueldototal))\n",
        "if sueldototal < 20 :\n",
        "  estado = \"SI aplica para bono de alimentacion\"\n",
        "  print(\" N aplica bono\")\n",
        "  print(f\"el sueldo mensual es = {sueldo} y el sueldo total es = {sueldototal}\")\n",
        "  print(\"el sueldo mensual es = {:,.0f} y el sueldo total es =  {:,.0f}\".format(sueldo, sueldototal))\n",
        "else:\n",
        "  estado = \"NO aplica para bono de alimentacion\"\n",
        "  print(\"NO aplica bono\")\n",
        "  print(f\"el sueldo mensual es = {sueldo} y el sueldo total es = {sueldototal}\")\n",
        "  print(\"el sueldo mensual es = {:,.0f} y el sueldo total es =  {:,.0f}\".format(sueldo, sueldototal))"
      ],
      "metadata": {
        "id": "oLpP0V5nBd6p",
        "colab": {
          "base_uri": "https://localhost:8080/"
        },
        "outputId": "829fa692-6384-4174-cdd7-e66013c0c679"
      },
      "execution_count": null,
      "outputs": [
        {
          "output_type": "stream",
          "name": "stdout",
          "text": [
            "digite su salario1000000\n",
            "digite los dias que trabajo al mes: 20\n",
            "el sueldo mensual es = 1000000.0 y los dias trabajados es = 20.0\n",
            "el sueldo mensual es = 1000000.0 y el sueldo total es = 999980.0\n",
            "el sueldo mensual es = 1,000,000 y el sueldo total es =  999,980\n",
            "sI aplica bono\n",
            "el sueldo mensual es = 1000000.0 y el sueldo total es = 999980.0\n",
            "el sueldo mensual es = 1,000,000 y el sueldo total es =  999,980\n"
          ]
        }
      ]
    }
  ]
}