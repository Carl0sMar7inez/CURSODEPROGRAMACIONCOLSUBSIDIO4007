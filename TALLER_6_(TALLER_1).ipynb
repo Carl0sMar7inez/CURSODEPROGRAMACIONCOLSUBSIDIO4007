{
  "nbformat": 4,
  "nbformat_minor": 0,
  "metadata": {
    "colab": {
      "provenance": []
    },
    "kernelspec": {
      "name": "python3",
      "display_name": "Python 3"
    },
    "language_info": {
      "name": "python"
    }
  },
  "cells": [
    {
      "cell_type": "markdown",
      "source": [
        "TALLER 6 \n",
        "\n",
        "INTEGRAR CICLOS Y FUNCIONES"
      ],
      "metadata": {
        "id": "o46CAY_8bqnl"
      }
    },
    {
      "cell_type": "markdown",
      "source": [
        "TALLER 6\n",
        "\n",
        "NO. DE IDENTIFICACION, NOMBRES, APELLIDOS, ESTATURA, DIRECCION, TELEFONO, EDAD, ESTADO CIVIL, NO. DE HIJOS, FECHA DE CONTRATACION, (DIA/MES/AÑO), SUELDO BASICO Y DIAS LABORADOS"
      ],
      "metadata": {
        "id": "5iOVEuS9hH_K"
      }
    },
    {
      "cell_type": "code",
      "source": [
        "identidicacion = \"1031147831\"\n",
        "identificacion = input(\"digite su identificacion; \")\n",
        "for identificacion in \"=1031147831\":\n",
        "  print(identificacion)\n",
        "  res = \"si\"\n",
        "while res == \"si\" or res == \"SI\":\n",
        "  identificacion = 1031147831\n",
        "  while identificacion > 1031147831:\n",
        "    identificacion = identificacion + 1031147831\n",
        "  print(\"su numero de identificacion es = {}\".format(identificacion))\n",
        "  res = input(\"¿Desea ejecutarlo de nuevo?: \")\n",
        "def validaridentidad(identidad):\n",
        "  if identidad < 1031147831:\n",
        "    print(\"NO es su numero de  IDENTIDAD\")\n",
        "  else:\n",
        "    print(\"SI es su numero de IDENTIDAD\")\n",
        "res = \"si\"\n",
        "while res == \"si\" or res == \"SI\":\n",
        " identidad = float(input(\"DIGITE SU IDENTIDAD: \"))  \n",
        " validaridentidad(identidad)\n",
        " res = input(\"¿DESEA REALIZAR OTRA COMPARACION?: \")  "
      ],
      "metadata": {
        "id": "ZcMRADDGb0Ei",
        "colab": {
          "base_uri": "https://localhost:8080/"
        },
        "outputId": "94109b25-e9d1-4a1f-e83d-3e707955fe6d"
      },
      "execution_count": 18,
      "outputs": [
        {
          "name": "stdout",
          "output_type": "stream",
          "text": [
            "digite su identificacion; 1031147831\n",
            "=\n",
            "1\n",
            "0\n",
            "3\n",
            "1\n",
            "1\n",
            "4\n",
            "7\n",
            "8\n",
            "3\n",
            "1\n",
            "su numero de identificacion es = 1031147831\n",
            "¿Desea ejecutarlo de nuevo?: SI\n",
            "su numero de identificacion es = 1031147831\n",
            "¿Desea ejecutarlo de nuevo?: NO\n",
            "DIGITE SU IDENTIDAD: 1031147831\n",
            "SI es su numero de IDENTIDAD\n",
            "¿DESEA REALIZAR OTRA COMPARACION?: SI\n",
            "DIGITE SU IDENTIDAD: 1031147830\n",
            "NO es su numero de  IDENTIDAD\n",
            "¿DESEA REALIZAR OTRA COMPARACION?: NO\n"
          ]
        }
      ]
    },
    {
      "cell_type": "code",
      "source": [
        "nombres = \"carlos eduardo\"\n",
        "nombres = input(\"digite su nombres; \")\n",
        "for nombres in \"=carlos eduardo\":\n",
        "  print(nombres)\n",
        "res = \"si\"\n",
        "while res == \"si\" or res == \"SI\":\n",
        "  nombres = \"carlos eduardo\"\n",
        "  while nombres > \"carlos eduardo\":\n",
        "    nombres= nombres + \"carlos eduardo\"\n",
        "  print(\"sus nombres son = {}\".format(\"nombres\"))\n",
        "  res = input(\"¿Desea ejecutarlo de nuevo?: \")\n",
        "def validarnombres(nombres):\n",
        "  if nombres > \"carlos eduardo\":\n",
        "    print(\"NO son sus NOMBRES\")\n",
        "  else:\n",
        "    print(\"SI son sus NOMBRES\")\n",
        "res = \"si\"\n",
        "while res == \"si\" or res == \"SI\":\n",
        "  nombres = input(\"DIGITE SUS NOMBRES: \")\n",
        "  validarnombres(nombres)\n",
        "  res = input(\"¿DESEA REALIZAR OTRA COMPARACION?: \")  \n",
        "   "
      ],
      "metadata": {
        "id": "f-s96z2chjtE",
        "colab": {
          "base_uri": "https://localhost:8080/"
        },
        "outputId": "d86fb0f5-32a7-41e1-8a39-24c1772a35d0"
      },
      "execution_count": 77,
      "outputs": [
        {
          "name": "stdout",
          "output_type": "stream",
          "text": [
            "digite su nombres; carlos eduardo\n",
            "=\n",
            "c\n",
            "a\n",
            "r\n",
            "l\n",
            "o\n",
            "s\n",
            " \n",
            "e\n",
            "d\n",
            "u\n",
            "a\n",
            "r\n",
            "d\n",
            "o\n",
            "sus nombres son = nombres\n",
            "¿Desea ejecutarlo de nuevo?: si\n",
            "sus nombres son = nombres\n",
            "¿Desea ejecutarlo de nuevo?: no\n",
            "DIGITE SUS NOMBRES: carlos eduardo\n",
            "SI son sus NOMBRES\n",
            "¿DESEA REALIZAR OTRA COMPARACION?: si\n",
            "DIGITE SUS NOMBRES: juan topo\n",
            "NO son sus NOMBRES\n",
            "¿DESEA REALIZAR OTRA COMPARACION?: no\n"
          ]
        }
      ]
    },
    {
      "cell_type": "code",
      "source": [
        "apellidos = \"martinez moreno\"\n",
        "apellidos = input(\"digite sus apellidos; \")\n",
        "for apellidos in \"=martinez moreno\":\n",
        "  print(apellidos)\n",
        "res = \"si\"\n",
        "while res == \"si\" or res == \"SI\":\n",
        "  apellidos = \"martinez moreno\"\n",
        "  while apellidos > \"martinez moreno\":\n",
        "    apellidos= apellidos + \"martinez moreno\"\n",
        "  print(\"sus apellidos son = {}\".format(\"apellidos\"))\n",
        "  res = input(\"¿Desea ejecutarlo de nuevo?: \")\n",
        "def validarapellidos(apellidos):\n",
        "  if apellidos > \"martinez moreno\":\n",
        "    print(\"NO son sus APELLIDOS\")\n",
        "  else:\n",
        "    print(\"SI son sus APELLIDOS\")\n",
        "res = \"si\"\n",
        "while res == \"si\" or res == \"SI\":\n",
        "  apellidos = input(\"DIGITE SUS APELLIDOS: \")\n",
        "  validarapellidos(apellidos)\n",
        "  res = input(\"¿DESEA REALIZAR OTRA COMPARACION?: \")   "
      ],
      "metadata": {
        "id": "piFKSlbLhm8y",
        "colab": {
          "base_uri": "https://localhost:8080/"
        },
        "outputId": "c0b709ee-eacf-43fa-b3fb-dea994eb1973"
      },
      "execution_count": 157,
      "outputs": [
        {
          "name": "stdout",
          "output_type": "stream",
          "text": [
            "digite sus apellidos; martinez moreno\n",
            "=\n",
            "m\n",
            "a\n",
            "r\n",
            "t\n",
            "i\n",
            "n\n",
            "e\n",
            "z\n",
            " \n",
            "m\n",
            "o\n",
            "r\n",
            "e\n",
            "n\n",
            "o\n",
            "sus apellidos son = apellidos\n",
            "¿Desea ejecutarlo de nuevo?: si\n",
            "sus apellidos son = apellidos\n",
            "¿Desea ejecutarlo de nuevo?: no\n",
            "DIGITE SUS APELLIDOS: martinez moreno\n",
            "SI son sus APELLIDOS\n",
            "¿DESEA REALIZAR OTRA COMPARACION?: si\n",
            "DIGITE SUS APELLIDOS: rodriguez\n",
            "NO son sus APELLIDOS\n",
            "¿DESEA REALIZAR OTRA COMPARACION?: no\n"
          ]
        }
      ]
    },
    {
      "cell_type": "code",
      "source": [
        "estatura = \"1,75\"\n",
        "estatura = input(\"digite su estatura; \")\n",
        "for estatura in \"=1,75\":\n",
        "  print(estatura)\n",
        "res = \"si\"\n",
        "while res == \"si\" or res == \"SI\":\n",
        "  estatura = \"1,75\"\n",
        "  while estatura < \"1,75\" :\n",
        "    estatura = estatura + \"1,75\"\n",
        "  print(\"su estatura es = {}\".format(estatura))\n",
        "  res = input(\"¿Desea ejecutarlo de nuevo?: \")\n",
        "def validarestatura(estatura):\n",
        "  if estatura < \"1,75\":\n",
        "    print(\"NO es su ESTATURA\")\n",
        "  else:\n",
        "    print(\"SI es su ESTATURA\")\n",
        "res = \"si\"\n",
        "while res == \"si\" or res == \"SI\":\n",
        " estatura = input(\"DIGITE SU ESTATURA: \")  \n",
        " validarestatura(estatura)\n",
        " res = input(\"¿DESEA REALIZAR OTRA COMPARACION?: \")  "
      ],
      "metadata": {
        "id": "epVHKsbihrv1",
        "colab": {
          "base_uri": "https://localhost:8080/"
        },
        "outputId": "a2d057da-787b-4413-c180-36c3084bac5f"
      },
      "execution_count": 67,
      "outputs": [
        {
          "name": "stdout",
          "output_type": "stream",
          "text": [
            "digite su estatura; 1,75\n",
            "=\n",
            "1\n",
            ",\n",
            "7\n",
            "5\n",
            "su estatura es = 1,75\n",
            "¿Desea ejecutarlo de nuevo?: si\n",
            "su estatura es = 1,75\n",
            "¿Desea ejecutarlo de nuevo?: no\n",
            "DIGITE SU ESTATURA: 1.75\n",
            "SI es su ESTATURA\n",
            "¿DESEA REALIZAR OTRA COMPARACION?: si\n",
            "DIGITE SU ESTATURA: 1,40\n",
            "NO es su ESTATURA\n",
            "¿DESEA REALIZAR OTRA COMPARACION?: no\n"
          ]
        }
      ]
    },
    {
      "cell_type": "code",
      "source": [
        "direccion = \"kr 8 sur # 30 - 81 E\"\n",
        "direccion = input(\"digite su direccion; \") \n",
        "for direccion in \"kr 8 sur # 30 - 81 E\":\n",
        "  print(direccion)\n",
        "res = \"si\"\n",
        "while res == \"si\" or res == \"SI\":\n",
        "  direccion = \"kr 8 sur # 30 - 81 E\"\n",
        "  while direccion < (\"kr 8 sur # 30 - 81 E\") :\n",
        "    direccion = direccion + \"kr 8 sur 30 - 81 E\"\n",
        "  print(\"su direccion es = {}\".format(direccion))\n",
        "  res = input(\"¿Desea ejecutarlo de nuevo?: \")\n",
        "def validardireccion(direccion):\n",
        "  if direccion < \"kr 8 sur # 30 - 81 E\":\n",
        "    print(\"esa NO es tu DIRECCION: \")\n",
        "  else:\n",
        "    print(\"esa SI es tu DIRECCION: \")\n",
        "res = \"si\"\n",
        "while res == \"si\" or res == \"SI\":\n",
        " direccion = input(\"DIGITE SU DIRECCION: \")  \n",
        " validardireccion(direccion)\n",
        " res = input(\"¿DESEA REALIZAR OTRA COMPARACION?: \")"
      ],
      "metadata": {
        "id": "CiNsCJzohv1Z",
        "colab": {
          "base_uri": "https://localhost:8080/"
        },
        "outputId": "9b23e8e5-353f-4a8c-cf55-d54ec1f07d52"
      },
      "execution_count": 69,
      "outputs": [
        {
          "name": "stdout",
          "output_type": "stream",
          "text": [
            "digite su direccion; kr 8 sur # 30 - 81 E\n",
            "k\n",
            "r\n",
            " \n",
            "8\n",
            " \n",
            "s\n",
            "u\n",
            "r\n",
            " \n",
            "#\n",
            " \n",
            "3\n",
            "0\n",
            " \n",
            "-\n",
            " \n",
            "8\n",
            "1\n",
            " \n",
            "E\n",
            "su direccion es = kr 8 sur # 30 - 81 E\n",
            "¿Desea ejecutarlo de nuevo?: si\n",
            "su direccion es = kr 8 sur # 30 - 81 E\n",
            "¿Desea ejecutarlo de nuevo?: no\n",
            "DIGITE SU DIRECCION: kr 8 sur # 30 - 81 E\n",
            "esa SI es tu DIRECCION: \n",
            "¿DESEA REALIZAR OTRA COMPARACION?: si\n",
            "DIGITE SU DIRECCION: calle 62 # 40 -23 sur\n",
            "esa NO es tu DIRECCION: \n",
            "¿DESEA REALIZAR OTRA COMPARACION?: no\n"
          ]
        }
      ]
    },
    {
      "cell_type": "code",
      "source": [
        "telefono = 3107580169\n",
        "telefono = input(\"digite su telefono; \")\n",
        "for telefono in \"=3107580169\":\n",
        "  print(telefono)\n",
        "res = \"si\"\n",
        "while res == \"si\" or res == \"SI\":\n",
        "  telefono = 3107580169\n",
        "  while telefono  > 3107580169 :\n",
        "    telefono = telefono + 3107580169\n",
        "  print(\"su telefono  es = {}\".format(telefono))\n",
        "  res = input(\"¿Desea ejecutarlo de nuevo?: \")\n",
        "def validartelefono(telefono):\n",
        "  if telefono > 3107580169:\n",
        "    print(\"NO es su numero de  TELEFONO\")\n",
        "  else:\n",
        "    print(\"SI es su numero de TELEFONO\")\n",
        "resp = \"si\"\n",
        "while resp == \"si\" or resp == \"SI\":\n",
        " telefono = float(input(\"DIGITE SU NUMERO DE TELEFONO: \"))  \n",
        " validartelefono(telefono)\n",
        " resp = input(\"¿DESEA REALIZAR OTRA COMPARACION?: \")  "
      ],
      "metadata": {
        "id": "MdmLlB2Chy85",
        "colab": {
          "base_uri": "https://localhost:8080/"
        },
        "outputId": "bcc86805-a463-4067-a1fd-73fbbfc36fb2"
      },
      "execution_count": 160,
      "outputs": [
        {
          "name": "stdout",
          "output_type": "stream",
          "text": [
            "digite su telefono; 3107580169\n",
            "=\n",
            "3\n",
            "1\n",
            "0\n",
            "7\n",
            "5\n",
            "8\n",
            "0\n",
            "1\n",
            "6\n",
            "9\n",
            "su telefono  es = 3107580169\n",
            "¿Desea ejecutarlo de nuevo?: si\n",
            "su telefono  es = 3107580169\n",
            "¿Desea ejecutarlo de nuevo?: no\n",
            "DIGITE SU NUMERO DE TELEFONO: 3107580169\n",
            "SI es su numero de TELEFONO\n",
            "¿DESEA REALIZAR OTRA COMPARACION?: si\n",
            "DIGITE SU NUMERO DE TELEFONO: 3117681170\n",
            "NO es su numero de  TELEFONO\n",
            "¿DESEA REALIZAR OTRA COMPARACION?: no\n"
          ]
        }
      ]
    },
    {
      "cell_type": "code",
      "source": [
        "edad = 29\n",
        "edad = input(\"digite su edad; \")\n",
        "for edad in \"29\":\n",
        "  print(edad)\n",
        "res = \"si\"\n",
        "while res == \"si\" or res == \"SI\":\n",
        "  edad = 29\n",
        "  while edad > (29) :\n",
        "    edad = edad + 29\n",
        "  print(\"su edad es = {}\".format(edad))\n",
        "  res = input(\"¿Desea ejecutarlo de nuevo?: \")\n",
        "def validaredad(edad):\n",
        "  if edad > 29:\n",
        "    print(\"NO es su EDAD\")\n",
        "  else:\n",
        "    print(\"SI es su EDAD\")\n",
        "resp = \"si\"\n",
        "while resp == \"si\" or resp == \"SI\":\n",
        " edad = float(input(\"DIGITE SU EDAD: \"))\n",
        " validaredad(edad)\n",
        " resp = input(\"¿DESEA REALIZAR OTRA COMPARACION?: \")   "
      ],
      "metadata": {
        "id": "YWpWEhUFh2Cx",
        "colab": {
          "base_uri": "https://localhost:8080/"
        },
        "outputId": "324ab422-6dcd-4fba-b025-26e12dc3e01f"
      },
      "execution_count": 76,
      "outputs": [
        {
          "name": "stdout",
          "output_type": "stream",
          "text": [
            "digite su edad; 29\n",
            "2\n",
            "9\n",
            "su edad es = 29\n",
            "¿Desea ejecutarlo de nuevo?: si\n",
            "su edad es = 29\n",
            "¿Desea ejecutarlo de nuevo?: no\n",
            "DIGITE SU EDAD: 29\n",
            "SI es su EDAD\n",
            "¿DESEA REALIZAR OTRA COMPARACION?: si\n",
            "DIGITE SU EDAD: 30\n",
            "NO es su EDAD\n",
            "¿DESEA REALIZAR OTRA COMPARACION?: no\n"
          ]
        }
      ]
    },
    {
      "cell_type": "code",
      "source": [
        "estadocivil = \"soltero\"\n",
        "estadocivil = input(\"digite su estado civil; \")\n",
        "print(estadocivil)\n",
        "for estadocivil in \"soltero\":\n",
        "  print(estadocivil)\n",
        "res = \"si\"\n",
        "while res == \"si\" or res == \"SI\":\n",
        "  estadocivil = \"soltero\"\n",
        "  while estadocivil > \"soltero\" :\n",
        "    estadocivil= estadocivil + \"soltero\"\n",
        "  print(\"estado civil = {}\".format(\"soltero\"))\n",
        "  res = input(\"¿Desea ejecutarlo de nuevo?: \")\n",
        "def validarestadocivil(estadocivil):\n",
        "  if estadocivil < \"soltero\":\n",
        "    print(\"NO ESTA SOLTERO\")\n",
        "  else:\n",
        "    print(\"SI ESTA SOLTERO\")\n",
        "res = \"si\"\n",
        "while res == \"si\" or res == \"SI\":\n",
        "  estadocivil = input(\"DIGITE ESTADO CIVIL: \")\n",
        "  validarestadocivil(estadocivil)\n",
        "  res = input(\"¿DESEA REALIZAR OTRA COMPARACION?: \")   "
      ],
      "metadata": {
        "id": "x0xLbzbyh45I",
        "colab": {
          "base_uri": "https://localhost:8080/"
        },
        "outputId": "a8d88a4a-9ef4-4e9f-c91c-346d77aebc9a"
      },
      "execution_count": 156,
      "outputs": [
        {
          "name": "stdout",
          "output_type": "stream",
          "text": [
            "digite su estado civil; soltero\n",
            "soltero\n",
            "s\n",
            "o\n",
            "l\n",
            "t\n",
            "e\n",
            "r\n",
            "o\n",
            "estado civil = soltero\n",
            "¿Desea ejecutarlo de nuevo?: si\n",
            "estado civil = soltero\n",
            "¿Desea ejecutarlo de nuevo?: no\n",
            "DIGITE ESTADO CIVIL: soltero\n",
            "SI ESTA SOLTERO\n",
            "¿DESEA REALIZAR OTRA COMPARACION?: si\n",
            "DIGITE ESTADO CIVIL: casado\n",
            "NO ESTA SOLTERO\n",
            "¿DESEA REALIZAR OTRA COMPARACION?: no\n"
          ]
        }
      ]
    },
    {
      "cell_type": "code",
      "source": [
        "hijos = \"sin hijos\"\n",
        "hijos = input(\"digite si tiene hijos; \")\n",
        "for hijos in \"sin hijos\":\n",
        "  print(hijos)\n",
        "res = \"si\"\n",
        "while res == \"si\" or res == \"SI\":\n",
        "  hijos = \"sin hijos\"\n",
        "  while hijos > \"sin hijos\" :\n",
        "    hijos= hijos + \"sin hijos\"\n",
        "  print(\"tiene hijos = {}\".format(\"sin hijos\"))\n",
        "  res = input(\"¿Desea ejecutarlo de nuevo?: \")\n",
        "def validarhijo(hijos):\n",
        "  if hijos < \"sin hijos\":\n",
        "    print(\"SI tiene HIJOS\")\n",
        "  else:\n",
        "    print(\"NO tiene HIJOS\")\n",
        "res = \"si\"\n",
        "while res == \"si\" or res == \"SI\":\n",
        "  hijos = input(\"DIGITE Si TIENE HIJOS: \")\n",
        "  validarhijos(hijos)\n",
        "  res = input(\"¿DESEA REALIZAR OTRA COMPARACION?: \")   "
      ],
      "metadata": {
        "id": "D7daD3pTh7rf",
        "colab": {
          "base_uri": "https://localhost:8080/"
        },
        "outputId": "67784442-29b7-4434-b84f-27c10ef73393"
      },
      "execution_count": 151,
      "outputs": [
        {
          "name": "stdout",
          "output_type": "stream",
          "text": [
            "digite si tiene hijos; sin hijos\n",
            "s\n",
            "i\n",
            "n\n",
            " \n",
            "h\n",
            "i\n",
            "j\n",
            "o\n",
            "s\n",
            "tiene hijos = sin hijos\n",
            "¿Desea ejecutarlo de nuevo?: si\n",
            "tiene hijos = sin hijos\n",
            "¿Desea ejecutarlo de nuevo?: no\n",
            "DIGITE Si TIENE HIJOS: sin hijos\n",
            "NO tiene HIJOS\n",
            "¿DESEA REALIZAR OTRA COMPARACION?: si\n",
            "DIGITE Si TIENE HIJOS: con hijos\n",
            "SI tiene HIJOS\n",
            "¿DESEA REALIZAR OTRA COMPARACION?: no\n"
          ]
        }
      ]
    },
    {
      "cell_type": "code",
      "source": [
        "contratacion = \"09-09-2020\"\n",
        "contratacion = input(\"digite fecha de contratacion; \")\n",
        "for contratacion in \"09-09-2020\" :\n",
        "  print(contratacion)\n",
        "res = \"si\"\n",
        "while res == \"si\" or res == \"SI\":\n",
        "  contratacion = \"09-09-2020\"\n",
        "  while contratacion > (\"09-09-2020\") :\n",
        "    contratacion = contratacion + \"09-09-2020\" \n",
        "  print(\"la fecha de contratacion es  = {}\".format(contratacion))\n",
        "  res = input(\"¿Desea ejecutarlo de nuevo?: \")\n",
        "def validarcontratacion(contratacion):\n",
        "  if contratacion > (\"09-09-2020\") :\n",
        "    print(\"NO  es la fecha de CONTRATACION\")\n",
        "  else:\n",
        "    print(\"SI  es la fecha de CONTRATACION\")\n",
        "resp = \"si\"\n",
        "while resp == \"si\" or resp == \"SI\":\n",
        " contratacion = input(\"DIGITE FECHA DE CONTRATACION: \")\n",
        " validarcontratacion(contratacion)\n",
        " resp = input(\"¿DESEA REALIZAR OTRA COMPARACION?: \")"
      ],
      "metadata": {
        "id": "HVc7k_aYh_Ww",
        "colab": {
          "base_uri": "https://localhost:8080/"
        },
        "outputId": "44516fa0-46db-413e-d63c-d8500a8b07cf"
      },
      "execution_count": 74,
      "outputs": [
        {
          "name": "stdout",
          "output_type": "stream",
          "text": [
            "digite fecha de contratacion; 09-09-2020\n",
            "0\n",
            "9\n",
            "-\n",
            "0\n",
            "9\n",
            "-\n",
            "2\n",
            "0\n",
            "2\n",
            "0\n",
            "la fecha de contratacion es  = 09-09-2020\n",
            "¿Desea ejecutarlo de nuevo?: si\n",
            "la fecha de contratacion es  = 09-09-2020\n",
            "¿Desea ejecutarlo de nuevo?: no\n",
            "DIGITE FECHA DE CONTRATACION: 09-09-2020\n",
            "SI  es la fecha de CONTRATACION\n",
            "¿DESEA REALIZAR OTRA COMPARACION?: si\n",
            "DIGITE FECHA DE CONTRATACION: 10-12-2023\n",
            "NO  es la fecha de CONTRATACION\n",
            "¿DESEA REALIZAR OTRA COMPARACION?: no\n"
          ]
        }
      ]
    },
    {
      "cell_type": "code",
      "source": [
        "sueldo = \"1000000\"\n",
        "sueldo = input(\"digite su sueldo basico; \")\n",
        "for sueldo in \"= 1000000\":\n",
        "  print(sueldo)\n",
        "res = \"si\"\n",
        "while res == \"si\" or res == \"SI\":\n",
        "  sueldo = 1000000\n",
        "  while sueldo < 1000000 :\n",
        "    sueldo = sueldo + 1000000\n",
        "  print(\"sus sueldo era de  = {}\".format(sueldo))\n",
        "  res = input(\"¿Desea ejecutarlo de nuevo?: \")\n",
        "def validarsueldo(sueldo):\n",
        "  if sueldo > 1000000:\n",
        "    print(\"NO es el sueldo\")\n",
        "  else:\n",
        "    print(\"SI es el Sueldo\")\n",
        "resp = \"si\"\n",
        "while resp == \"si\" or resp == \"SI\":\n",
        " sueldo = float(input(\"DIGITE SU SUELDO: \"))  \n",
        " validarsueldo(sueldo)\n",
        " resp = input(\"¿DESEA REALIZAR OTRA COMPARACION?: \")"
      ],
      "metadata": {
        "id": "lRMuzcYqiCTT",
        "colab": {
          "base_uri": "https://localhost:8080/"
        },
        "outputId": "052645ca-420e-484a-f26f-e8e5f756127c"
      },
      "execution_count": 3,
      "outputs": [
        {
          "name": "stdout",
          "output_type": "stream",
          "text": [
            "digite su sueldo basico; 1000000\n",
            "=\n",
            " \n",
            "1\n",
            "0\n",
            "0\n",
            "0\n",
            "0\n",
            "0\n",
            "0\n",
            "sus sueldo era de  = 1000000\n",
            "¿Desea ejecutarlo de nuevo?: SI\n",
            "sus sueldo era de  = 1000000\n",
            "¿Desea ejecutarlo de nuevo?: NO\n",
            "DIGITE SU SUELDO: 1000000\n",
            "SI es el Sueldo\n",
            "¿DESEA REALIZAR OTRA COMPARACION?: SI\n",
            "DIGITE SU SUELDO: 2000000\n",
            "NO es el sueldo\n",
            "¿DESEA REALIZAR OTRA COMPARACION?: NO\n"
          ]
        }
      ]
    },
    {
      "cell_type": "code",
      "source": [
        "diaslaborados = \"365\"\n",
        "diaslaborados = input(\"digite los dias laborados; \")\n",
        "for diaslaborados in \"=365\":\n",
        "  print(diaslaborados)\n",
        "res = \"si\"\n",
        "while res == \"si\" or res == \"SI\":\n",
        "  diaslaborados = \"365\"\n",
        "  while diaslaborados > \"365\" :\n",
        "    diaslaborados = diaslaborados + \"365\"\n",
        "  print(\"dias laborados es  = {}\".format(diaslaborados))\n",
        "  res = input(\"¿Desea ejecutarlo de nuevo?: \")\n",
        "def validardiaslaborados(diaslaborados):\n",
        "  if diaslaborados > 365:\n",
        "    print(\"NO son los DIAS LABORADOS\")\n",
        "  else:\n",
        "    print(\"SI son los DIAS LABORADOS\")\n",
        "resp = \"si\"\n",
        "while resp == \"si\" or resp == \"SI\":\n",
        " diaslaborados = float(input(\"DIGITE SUS DIAS LABORADOS: \"))  \n",
        " validardiaslaborados(diaslaborados)\n",
        " resp = input(\"¿DESEA REALIZAR OTRA COMPARACION?: \")"
      ],
      "metadata": {
        "id": "DpVUtkE9iHwT",
        "colab": {
          "base_uri": "https://localhost:8080/"
        },
        "outputId": "8133ff5a-5864-4161-efc3-9746d2fab693"
      },
      "execution_count": 67,
      "outputs": [
        {
          "name": "stdout",
          "output_type": "stream",
          "text": [
            "digite los dias laborados; 365\n",
            "=\n",
            "3\n",
            "6\n",
            "5\n",
            "dias laborados es  = 365\n",
            "¿Desea ejecutarlo de nuevo?: si\n",
            "dias laborados es  = 365\n",
            "¿Desea ejecutarlo de nuevo?: no\n",
            "DIGITE SUS DIAS LABORADOS: 365\n",
            "SI son los DIAS LABORADOS\n",
            "¿DESEA REALIZAR OTRA COMPARACION?: si\n",
            "DIGITE SUS DIAS LABORADOS: 400\n",
            "NO son los DIAS LABORADOS\n",
            "¿DESEA REALIZAR OTRA COMPARACION?: no\n"
          ]
        }
      ]
    }
  ]
}