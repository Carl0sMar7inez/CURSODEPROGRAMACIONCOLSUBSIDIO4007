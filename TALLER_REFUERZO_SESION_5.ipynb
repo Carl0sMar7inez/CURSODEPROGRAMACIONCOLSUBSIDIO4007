{
  "nbformat": 4,
  "nbformat_minor": 0,
  "metadata": {
    "colab": {
      "provenance": []
    },
    "kernelspec": {
      "name": "python3",
      "display_name": "Python 3"
    },
    "language_info": {
      "name": "python"
    }
  },
  "cells": [
    {
      "cell_type": "markdown",
      "source": [
        "1. SE NECESITA UN SISTEMA QUE DESPLIEGA UNA TABLA DE MULTIPLICAR DE UN NUMERO DADO POR EL USUARIO. (CICLO FOR)\n"
      ],
      "metadata": {
        "id": "pGivGrEfCwDo"
      }
    },
    {
      "cell_type": "code",
      "source": [
        "num = int(input(\"Digite el numero de la tabla de Multiplicar: \"))\n",
        "for i in range(11):\n",
        "  print(num * i)\n",
        "for i in range(11):\n",
        "  print(i, \"x\", num, \"=\", num * i)"
      ],
      "metadata": {
        "colab": {
          "base_uri": "https://localhost:8080/"
        },
        "id": "SUf_2fPLzm5-",
        "outputId": "d739fcae-88ad-49e7-8c3d-174edce60437"
      },
      "execution_count": null,
      "outputs": [
        {
          "output_type": "stream",
          "name": "stdout",
          "text": [
            "Digite el numero de la tabla de Multiplicar: 5\n",
            "0\n",
            "5\n",
            "10\n",
            "15\n",
            "20\n",
            "25\n",
            "30\n",
            "35\n",
            "40\n",
            "45\n",
            "50\n",
            "0 x 5 = 0\n",
            "1 x 5 = 5\n",
            "2 x 5 = 10\n",
            "3 x 5 = 15\n",
            "4 x 5 = 20\n",
            "5 x 5 = 25\n",
            "6 x 5 = 30\n",
            "7 x 5 = 35\n",
            "8 x 5 = 40\n",
            "9 x 5 = 45\n",
            "10 x 5 = 50\n"
          ]
        }
      ]
    },
    {
      "cell_type": "markdown",
      "source": [
        "2. SE NECESITA UN SISTEMA QUE PIDA UN SUELDO DE UN TRABAJADOR, SI EL SUELDO ES MAYOR A $655.000, NO TENDRA NINGUNA BONIFICACION, PERO SI ES MENOR TIENE BONIFICACION DEL 4%. AL FINAL SE DESEA SABER EL TOTAL DEL SUELDO CON O SIN BONIFICACION. (PREGUNTAR SI DESEA EJECUTAR DE NUEVO EL PROGRAMA CON EL CICLO WHILE)\n",
        "\n"
      ],
      "metadata": {
        "id": "x87k1V2S2j77"
      }
    },
    {
      "cell_type": "code",
      "source": [
        "resp = \"si\"\n",
        "while resp == \"si\" or resp == \"SI\":\n",
        "  S1 = float(input(\"Digite su SUELDO: \"))\n",
        "  BON3 = float(input(\"Digite EL VALOR DE LA BONIFICACION (4%): \"))\n",
        "  sueldofinal = round(S1 + BON3)\n",
        "  if sueldofinal <= 655000:\n",
        "    estado = \"CON BONIFICACION\"\n",
        "  else:\n",
        "    estado = \"SIN BONIFICACION\"\n",
        "  print(f\"el sueldo final es = {sueldofinal} y el estado es = {estado}\")\n",
        "  resp= input(\"¿Desea VOLVER a digitar su SUELDO?: \")\n",
        "  "
      ],
      "metadata": {
        "colab": {
          "base_uri": "https://localhost:8080/"
        },
        "id": "-dY-qV4v4hpg",
        "outputId": "558dc0ea-eb40-4972-a1e4-5f7fb65ffba2"
      },
      "execution_count": null,
      "outputs": [
        {
          "name": "stdout",
          "output_type": "stream",
          "text": [
            "Digite su SUELDO: 700000\n",
            "Digite EL VALOR DE LA BONIFICACION (4%): 0.4\n",
            "el sueldo final es = 700000 y el estado es = SIN BONIFICACION\n",
            "¿Desea VOLVER a digitar su SUELDO?: SI\n",
            "Digite su SUELDO: 600000\n",
            "Digite EL VALOR DE LA BONIFICACION (4%): 0.4\n",
            "el sueldo final es = 600000 y el estado es = CON BONIFICACION\n",
            "¿Desea VOLVER a digitar su SUELDO?: NO\n"
          ]
        }
      ]
    },
    {
      "cell_type": "markdown",
      "source": [
        "3. UN MAESTRO NECESITA UN SISTEMA PARA CAPTURAR LAS CALIFICACIONES DE 5 PARCIALES DE SUS ALUMNOS, DESPUES RECAPTURAR LAS NECESITA QUE SE DESPILIEGUE EL PROMEDIO, CUANDO YA NO QUIERA CAPTURAR MAS ALUMNOS, NECESITA QUE SE DESPLIEGUE EL PROMEDIO GENERAL DE TODOS LOS ALUMNOS CAPTURADOS. (PREGUNTAR SI DESEA EJECUTAR DE NUEVO EL PROGRAMA CON EL CICLO WHILE)\n",
        "\n",
        "```\n",
        "\n",
        "```\n",
        "\n"
      ],
      "metadata": {
        "id": "8MvaB83HYtI3"
      }
    },
    {
      "cell_type": "code",
      "source": [
        "resp = \"si\"\n",
        "while resp == \"si\" or resp == \"SI\":\n",
        "  PAR1 = float(input(\"Digite la calificacion 1: \"))\n",
        "  PAR2 = float(input(\"Digite la calificacion 2: \"))\n",
        "  PAR3 = float(input(\"Digite la calificacion 3: \"))\n",
        "  PAR4 = float(input(\"Digite la calificacion 4: \"))\n",
        "  PAR5 = float(input(\"Digite la calificacion 5: \"))\n",
        "  prom = round((PAR1 + PAR2 + PAR3 + PAR4 + PAR5)/5, 2)\n",
        "  if prom > 3:\n",
        "    estado = \"aprobado ++\"\n",
        "  else:\n",
        "    estado = \"reprobado --\"\n",
        "  print(f\"el estado es = {estado}\")\n",
        "  print(f\"el total de la suma de los parciales = {prom}\")\n",
        "  resp= input(\"¿Desea Calcular otras 5 Calificaciones?: \") "
      ],
      "metadata": {
        "colab": {
          "base_uri": "https://localhost:8080/"
        },
        "id": "qD23zZavZrhC",
        "outputId": "02578c5a-50e0-46b1-d2bc-db43cb46cf1a"
      },
      "execution_count": null,
      "outputs": [
        {
          "name": "stdout",
          "output_type": "stream",
          "text": [
            "Digite la calificacion 1: 2.8\n",
            "Digite la calificacion 2: 3.0\n",
            "Digite la calificacion 3: 3.5\n",
            "Digite la calificacion 4: 4.0\n",
            "Digite la calificacion 5: 4.5\n",
            "el estado es = aprobado ++\n",
            "el total de la suma de los parciales = 3.56\n",
            "¿Desea Calcular otras 5 Calificaciones?: si\n",
            "Digite la calificacion 1: 1.5\n",
            "Digite la calificacion 2: 1.0\n",
            "Digite la calificacion 3: 2.5\n",
            "Digite la calificacion 4: 2.0\n",
            "Digite la calificacion 5: 3.0\n",
            "el estado es = reprobado --\n",
            "el total de la suma de los parciales = 2.0\n",
            "¿Desea Calcular otras 5 Calificaciones?: no\n"
          ]
        }
      ]
    },
    {
      "cell_type": "markdown",
      "source": [
        "4. CREAR UN BUCLE QUE CUENTE TODOS LOS NUMEROS PARES HASTA EL 100. (CICLO FOR)"
      ],
      "metadata": {
        "id": "0gshcDwG1hlP"
      }
    },
    {
      "cell_type": "code",
      "source": [
        "for i in range (0, 102, 2):\n",
        "  print(i)"
      ],
      "metadata": {
        "colab": {
          "base_uri": "https://localhost:8080/"
        },
        "id": "YYZgavO2177U",
        "outputId": "657fec7d-53b1-411e-a0ab-b57699c88164"
      },
      "execution_count": null,
      "outputs": [
        {
          "output_type": "stream",
          "name": "stdout",
          "text": [
            "0\n",
            "2\n",
            "4\n",
            "6\n",
            "8\n",
            "10\n",
            "12\n",
            "14\n",
            "16\n",
            "18\n",
            "20\n",
            "22\n",
            "24\n",
            "26\n",
            "28\n",
            "30\n",
            "32\n",
            "34\n",
            "36\n",
            "38\n",
            "40\n",
            "42\n",
            "44\n",
            "46\n",
            "48\n",
            "50\n",
            "52\n",
            "54\n",
            "56\n",
            "58\n",
            "60\n",
            "62\n",
            "64\n",
            "66\n",
            "68\n",
            "70\n",
            "72\n",
            "74\n",
            "76\n",
            "78\n",
            "80\n",
            "82\n",
            "84\n",
            "86\n",
            "88\n",
            "90\n",
            "92\n",
            "94\n",
            "96\n",
            "98\n",
            "100\n"
          ]
        }
      ]
    },
    {
      "cell_type": "markdown",
      "source": [
        "5. HAZ UNA TABLA DE MULTIPLICAR UTILIZANDO EL CICLO FOR."
      ],
      "metadata": {
        "id": "PD-bY8dB4L9x"
      }
    },
    {
      "cell_type": "code",
      "source": [
        "\n",
        "for i in range(1, 11):\n",
        "    for j in range(1, 11):\n",
        "        print(i*j, end=\"\\t\")\n",
        "    print(\"\")"
      ],
      "metadata": {
        "colab": {
          "base_uri": "https://localhost:8080/"
        },
        "id": "Ziy6mOIU4vqC",
        "outputId": "48293048-caa6-4abc-c626-9594dc2c665c"
      },
      "execution_count": null,
      "outputs": [
        {
          "output_type": "stream",
          "name": "stdout",
          "text": [
            "1\t2\t3\t4\t5\t6\t7\t8\t9\t10\t\n",
            "2\t4\t6\t8\t10\t12\t14\t16\t18\t20\t\n",
            "3\t6\t9\t12\t15\t18\t21\t24\t27\t30\t\n",
            "4\t8\t12\t16\t20\t24\t28\t32\t36\t40\t\n",
            "5\t10\t15\t20\t25\t30\t35\t40\t45\t50\t\n",
            "6\t12\t18\t24\t30\t36\t42\t48\t54\t60\t\n",
            "7\t14\t21\t28\t35\t42\t49\t56\t63\t70\t\n",
            "8\t16\t24\t32\t40\t48\t56\t64\t72\t80\t\n",
            "9\t18\t27\t36\t45\t54\t63\t72\t81\t90\t\n",
            "10\t20\t30\t40\t50\t60\t70\t80\t90\t100\t\n"
          ]
        }
      ]
    },
    {
      "cell_type": "markdown",
      "source": [
        "6. ESCRIBIR UN PROGRAMA QUE PREGUNTE AL USUARIO SU EDAD Y MUESTRE POR PANTALLA TODOS LOS AÑOS  QUE HA CUMPLIDO. (DESDE 1 HASTA SU EDAD, CICLO FOR)\n",
        "\n"
      ],
      "metadata": {
        "id": "_i1zNK9z5ga_"
      }
    },
    {
      "cell_type": "code",
      "source": [
        "edad = int(input(\"¿Cuántos años tienes? \"))\n",
        "for i in range(edad):\n",
        "    print(\"Has cumplido \" + str(i+1) + \" años\")"
      ],
      "metadata": {
        "colab": {
          "base_uri": "https://localhost:8080/"
        },
        "id": "AXcmY2ItAhYI",
        "outputId": "ca54381d-18ec-422f-8426-c08826264c4a"
      },
      "execution_count": null,
      "outputs": [
        {
          "output_type": "stream",
          "name": "stdout",
          "text": [
            "¿Cuántos años tienes? 1\n",
            "Has cumplido 1 años\n"
          ]
        }
      ]
    },
    {
      "cell_type": "code",
      "source": [
        "edad = int(input(\"¿Cuántos años tienes? \"))\n",
        "for i in range(edad):\n",
        "    print(\"Has cumplido \" + str(i+1) + \" años\")"
      ],
      "metadata": {
        "colab": {
          "base_uri": "https://localhost:8080/"
        },
        "id": "tde1_FHjBHqj",
        "outputId": "1b764027-0df1-4031-d761-4bc8d69d7e5e"
      },
      "execution_count": null,
      "outputs": [
        {
          "output_type": "stream",
          "name": "stdout",
          "text": [
            "¿Cuántos años tienes? 29\n",
            "Has cumplido 1 años\n",
            "Has cumplido 2 años\n",
            "Has cumplido 3 años\n",
            "Has cumplido 4 años\n",
            "Has cumplido 5 años\n",
            "Has cumplido 6 años\n",
            "Has cumplido 7 años\n",
            "Has cumplido 8 años\n",
            "Has cumplido 9 años\n",
            "Has cumplido 10 años\n",
            "Has cumplido 11 años\n",
            "Has cumplido 12 años\n",
            "Has cumplido 13 años\n",
            "Has cumplido 14 años\n",
            "Has cumplido 15 años\n",
            "Has cumplido 16 años\n",
            "Has cumplido 17 años\n",
            "Has cumplido 18 años\n",
            "Has cumplido 19 años\n",
            "Has cumplido 20 años\n",
            "Has cumplido 21 años\n",
            "Has cumplido 22 años\n",
            "Has cumplido 23 años\n",
            "Has cumplido 24 años\n",
            "Has cumplido 25 años\n",
            "Has cumplido 26 años\n",
            "Has cumplido 27 años\n",
            "Has cumplido 28 años\n",
            "Has cumplido 29 años\n"
          ]
        }
      ]
    }
  ]
}