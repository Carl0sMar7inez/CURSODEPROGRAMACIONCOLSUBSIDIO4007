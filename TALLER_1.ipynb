{
  "nbformat": 4,
  "nbformat_minor": 0,
  "metadata": {
    "colab": {
      "provenance": []
    },
    "kernelspec": {
      "name": "python3",
      "display_name": "Python 3"
    },
    "language_info": {
      "name": "python"
    }
  },
  "cells": [
    {
      "cell_type": "markdown",
      "source": [
        "## TALLER 1\n",
        "\n",
        "NO. DE IDENTIFICACION, NOMBRES, APELLIDOS, ESTATURA, DIRECCION, TELEFONO, EDAD, ESTADO CIVIL, NO. DE HIJOS, FECHA DE CONTRATACION, (DIA/MES/AÑO), SUELDO BASICO Y DIAS LABORADOS"
      ],
      "metadata": {
        "id": "Jzk6aSvCOD_O"
      }
    },
    {
      "cell_type": "code",
      "source": [
        "identidicacion = \"1031147831\"\n",
        "identificacion = input(\"digite su identificacion; \")\n",
        "print(identificacion)"
      ],
      "metadata": {
        "colab": {
          "base_uri": "https://localhost:8080/"
        },
        "id": "0I2CA7J8OGzP",
        "outputId": "cd076b9d-19f5-4d7f-d9eb-cc6144c761ba"
      },
      "execution_count": null,
      "outputs": [
        {
          "output_type": "stream",
          "name": "stdout",
          "text": [
            "digite su identificacion; 1031147831\n",
            "1031147831\n"
          ]
        }
      ]
    },
    {
      "cell_type": "code",
      "source": [
        "nombres = \"carlos eduardo\"\n",
        "nombres = input(\"digite su nombres; \")\n",
        "print(nombres)"
      ],
      "metadata": {
        "colab": {
          "base_uri": "https://localhost:8080/"
        },
        "id": "0nOOMS4MKR35",
        "outputId": "65ff8d33-1754-46dc-cb36-d63af336b750"
      },
      "execution_count": null,
      "outputs": [
        {
          "output_type": "stream",
          "name": "stdout",
          "text": [
            "digite su nombres; carlos eduardo\n",
            "carlos eduardo\n"
          ]
        }
      ]
    },
    {
      "cell_type": "code",
      "source": [
        "apellidos = \"martinez moreno\"\n",
        "apellidos = input(\"digite sus apellidos; \")\n",
        "print(apellidos)"
      ],
      "metadata": {
        "colab": {
          "base_uri": "https://localhost:8080/"
        },
        "id": "vyLGT92-Ka5j",
        "outputId": "421360db-9e00-4b65-916f-ea24c7689745"
      },
      "execution_count": null,
      "outputs": [
        {
          "output_type": "stream",
          "name": "stdout",
          "text": [
            "digite sus apellidos; martinez moreno\n",
            "martinez moreno\n"
          ]
        }
      ]
    },
    {
      "cell_type": "code",
      "source": [
        "estatura = \"1,75\"\n",
        "estatura = input(\"digite su estatura; \")\n",
        "print(estatura)"
      ],
      "metadata": {
        "colab": {
          "base_uri": "https://localhost:8080/"
        },
        "id": "AKm9k9rqTlNJ",
        "outputId": "accd9400-80eb-4109-ff71-43ffc6952aa2"
      },
      "execution_count": null,
      "outputs": [
        {
          "output_type": "stream",
          "name": "stdout",
          "text": [
            "digite su estatura; 1.75\n",
            "1.75\n"
          ]
        }
      ]
    },
    {
      "cell_type": "code",
      "source": [
        "direccion = \"kr 8 sur # 30- 81 este\"\n",
        "direccion = input(\"digite su dureccion; \")\n",
        "print(direccion)"
      ],
      "metadata": {
        "colab": {
          "base_uri": "https://localhost:8080/"
        },
        "id": "9LkpeUgtLsdH",
        "outputId": "fffd4791-2a6e-48bd-b823-95ac3dcf5bd3"
      },
      "execution_count": null,
      "outputs": [
        {
          "output_type": "stream",
          "name": "stdout",
          "text": [
            "digite su dureccion; kr 8 sur # 30 - 81 este\n",
            "kr 8 sur # 30 - 81 este\n"
          ]
        }
      ]
    },
    {
      "cell_type": "code",
      "source": [
        "telefono = 3107580169\n",
        "telefono = input(\"digite su telefono; \")\n",
        "print(telefono)"
      ],
      "metadata": {
        "colab": {
          "base_uri": "https://localhost:8080/"
        },
        "id": "YIVsRCCPMDi4",
        "outputId": "16b2604e-67f0-459b-9c12-f04ddf878a82"
      },
      "execution_count": null,
      "outputs": [
        {
          "output_type": "stream",
          "name": "stdout",
          "text": [
            "digite su telefono; 3107580169\n",
            "3107580169\n"
          ]
        }
      ]
    },
    {
      "cell_type": "code",
      "source": [
        "edad = 29\n",
        "edad = input(\"digite su edad; \")\n",
        "print(edad)"
      ],
      "metadata": {
        "colab": {
          "base_uri": "https://localhost:8080/"
        },
        "id": "ZXIYxdZcM0gc",
        "outputId": "7b88a4c2-ccea-4524-db87-2bef4744c124"
      },
      "execution_count": null,
      "outputs": [
        {
          "output_type": "stream",
          "name": "stdout",
          "text": [
            "digite su edad; 29\n",
            "29\n"
          ]
        }
      ]
    },
    {
      "cell_type": "code",
      "source": [
        "estadocivil = \"soltero\"\n",
        "estadocivil = input(\"digite su estado civil; \")\n",
        "print(estadocivil)"
      ],
      "metadata": {
        "colab": {
          "base_uri": "https://localhost:8080/"
        },
        "id": "Iuq_suJcNKIG",
        "outputId": "f98ae6d9-02b7-4dd1-84de-3a2cd48fadf5"
      },
      "execution_count": null,
      "outputs": [
        {
          "output_type": "stream",
          "name": "stdout",
          "text": [
            "digite su estado civil; soltero\n",
            "soltero\n"
          ]
        }
      ]
    },
    {
      "cell_type": "code",
      "source": [
        "hijos = \"no\"\n",
        "hijos = input(\"digite si tiene  hijos; \")\n",
        "print(hijos)"
      ],
      "metadata": {
        "colab": {
          "base_uri": "https://localhost:8080/"
        },
        "id": "KtPBugZ8N2-r",
        "outputId": "f40b5eb8-5202-44cc-b147-e29c33b5b5bb"
      },
      "execution_count": null,
      "outputs": [
        {
          "output_type": "stream",
          "name": "stdout",
          "text": [
            "digite si tiene  hijos; no\n",
            "no\n"
          ]
        }
      ]
    },
    {
      "cell_type": "code",
      "source": [
        "contratacion = \"09-09-2020\"\n",
        "contratacion = input(\"digite fecha de contratacion; \")\n",
        "print(contratacion)"
      ],
      "metadata": {
        "colab": {
          "base_uri": "https://localhost:8080/"
        },
        "id": "A_WuSHRgRsQr",
        "outputId": "d118f66a-9193-4d77-f0e7-36b12ec28952"
      },
      "execution_count": null,
      "outputs": [
        {
          "output_type": "stream",
          "name": "stdout",
          "text": [
            "digite fecha de contratacion; 09-09-2020\n",
            "09-09-2020\n"
          ]
        }
      ]
    },
    {
      "cell_type": "code",
      "source": [
        "sueldo = \"$1.000.000\"\n",
        "sueldo = input(\"digite su sueldo basico; \")\n",
        "print(sueldo)"
      ],
      "metadata": {
        "colab": {
          "base_uri": "https://localhost:8080/"
        },
        "id": "hCg8MyBsR_qH",
        "outputId": "fe7077fc-2ed8-4834-9deb-091d2f9256c8"
      },
      "execution_count": null,
      "outputs": [
        {
          "output_type": "stream",
          "name": "stdout",
          "text": [
            "digite su sueldo basico; $1.000.000\n",
            "$1.000.000\n"
          ]
        }
      ]
    },
    {
      "cell_type": "code",
      "source": [
        "diaslaborados = \"365\"\n",
        "diaslaborados = input(\"digite los dias laborados; \")\n",
        "print(diaslaborados)"
      ],
      "metadata": {
        "colab": {
          "base_uri": "https://localhost:8080/"
        },
        "id": "1mAR_0u7SxKa",
        "outputId": "ddf4aa70-342a-4190-85ce-b245dc42068c"
      },
      "execution_count": null,
      "outputs": [
        {
          "output_type": "stream",
          "name": "stdout",
          "text": [
            "digite los dias laborados; 365\n",
            "365\n"
          ]
        }
      ]
    }
  ]
}