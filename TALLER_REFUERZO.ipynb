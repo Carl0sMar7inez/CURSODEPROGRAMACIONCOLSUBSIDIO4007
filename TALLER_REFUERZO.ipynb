{
  "nbformat": 4,
  "nbformat_minor": 0,
  "metadata": {
    "colab": {
      "provenance": []
    },
    "kernelspec": {
      "name": "python3",
      "display_name": "Python 3"
    },
    "language_info": {
      "name": "python"
    }
  },
  "cells": [
    {
      "cell_type": "markdown",
      "source": [
        "TALLER DE REFUERZO\n",
        "\n",
        "1. UN VENDEDOR RECIBE UN SUELDO BASE MAS UN 10% EXTRA POR COMISION DE SUS VENTAS, EL VENDEDOR DESEA SABER CUANTO DINERO OBTENDRA POR CONCEPTO DE COMISIONES POR LAS TRES VENTAS QUE REALIZA EN EL MES Y EL TOTAL QUE RECIBIRA EN EL MES TOMANDO EN CUENTA SU SUELDO BASE Y COMISIONES."
      ],
      "metadata": {
        "id": "DCFb3drAhGok"
      }
    },
    {
      "cell_type": "code",
      "source": [
        "venta1 = float(input(\"digite el valor de la venta 1: \" ))\n",
        "venta2 = float(input(\"digite el valor de la venta 2: \"))\n",
        "venta3 = float(input(\"digite el valor de la venta 3: \"))\n",
        "sueldo = float(input(\"salario base es: \"))\n",
        "sueldobase = 1000000\n",
        "porcentaje =  sueldo * 0.10\n",
        "totalventas = (venta1 + venta2 + venta3)/3\n",
        "totalventas = round((venta1 + venta2 + venta3)/3 , 2)\n",
        "print(\"la comision total ventas es = {}\".format( porcentaje))\n",
        "print(f\"la comision total en ventas es {porcentaje}\")\n",
        "print(\"la comision total en ventas es = {:,.0f}\".format(porcentaje))"
      ],
      "metadata": {
        "colab": {
          "base_uri": "https://localhost:8080/"
        },
        "id": "yiheRFsgjTxx",
        "outputId": "ae2323ac-4a0e-4dc8-c474-12d6df7a481a"
      },
      "execution_count": null,
      "outputs": [
        {
          "output_type": "stream",
          "name": "stdout",
          "text": [
            "digite el valor de la venta 1: 150000\n",
            "digite el valor de la venta 2: 125000\n",
            "digite el valor de la venta 3: 100000\n",
            "salario base es: 1000000\n",
            "la comision total ventas es = 100000.0\n",
            "la comision total en ventas es 100000.0\n",
            "la comision total en ventas es = 100,000\n"
          ]
        }
      ]
    },
    {
      "cell_type": "markdown",
      "source": [
        "2. UNA TIENDA OFRECE UN DESCUENTO DEL 15% SOBRE EL TOTAL DE LA COMPRA Y UN CLIENTE DESEA SABER CUAQNTO DEBERA PAGAR FINALMENTE POR SU COMPRA"
      ],
      "metadata": {
        "id": "nAYIuYgZuEWf"
      }
    },
    {
      "cell_type": "code",
      "source": [
        "compra = float(input(\"¿valor de la compra?\"))\n",
        "valorcompra = 1000000\n",
        "descuento = compra * 0.15\n",
        "totalcompra = compra - descuento\n",
        "print(\"el descuento es = {} y el total a pagar es = {}\".format(descuento, totalcompra))\n",
        "print(f\"el descuento es {descuento} y el total a pagar es {totalcompra}\")\n",
        "print(\"el descuento es = {:,.0f} y el total a pagar es {:,.0f}\".format(descuento, totalcompra))"
      ],
      "metadata": {
        "colab": {
          "base_uri": "https://localhost:8080/"
        },
        "id": "du8iHThIuh5z",
        "outputId": "0e181ea7-fd48-4dca-b138-e1c5be879468"
      },
      "execution_count": null,
      "outputs": [
        {
          "output_type": "stream",
          "name": "stdout",
          "text": [
            "¿valor de la compra?1000000\n",
            "el descuento es = 150000.0 y el total a pagar es = 850000.0\n",
            "el descuento es 150000.0 y el total a pagar es 850000.0\n",
            "el descuento es = 150,000 y el total a pagar es 850,000\n"
          ]
        }
      ]
    },
    {
      "cell_type": "markdown",
      "source": [
        "3. UN ALUMNO DESEA SABER CUAL SERA SU CALIFICACION FINAL EN LA MATERIA DE ALGORITMOS. DICHA CALIFICACION SE COMPONE DE TRES EXAMENES PARCIALES."
      ],
      "metadata": {
        "id": "IxbIoF5uzpJN"
      }
    },
    {
      "cell_type": "code",
      "source": [
        "examen1 = float(input(\"digite la calificacion examen 1: \" ))\n",
        "examen2 = float(input(\"digite la calificacion examen 2: \"))\n",
        "examen3 = float(input(\"digite la calificacion examen 3: \"))\n",
        "promedio = (examen1 + examen2 + examen3)/3\n",
        "promedio = round((examen1 + examen2 + examen3)/3 , 2)\n",
        "print(\"el promedio es = {}\".format(promedio))\n",
        "print(f\"el promedio es = {promedio}\")\n",
        "print(\"el promedio es = {:,.0f}\".format(promedio))"
      ],
      "metadata": {
        "colab": {
          "base_uri": "https://localhost:8080/"
        },
        "id": "xkKU4bhd0P4R",
        "outputId": "cfa19070-0dae-4aa4-9872-2b1ebab13e11"
      },
      "execution_count": null,
      "outputs": [
        {
          "output_type": "stream",
          "name": "stdout",
          "text": [
            "digite la calificacion examen 1: 2.5\n",
            "digite la calificacion examen 2: 3.2\n",
            "digite la calificacion examen 3: 2.5\n",
            "el promedio es = 2.73\n",
            "el promedio es = 2.73\n",
            "el promedio es = 3\n"
          ]
        }
      ]
    },
    {
      "cell_type": "markdown",
      "source": [
        "4. UN MAESTRO DESEA SABER QUE PORCENTAJE DE HOMBRES Y QUE PORCENTAJE DE MUJERES HAY EN UN GRUPO DE ESTUDIANTES."
      ],
      "metadata": {
        "id": "_jM2nxgq35xP"
      }
    },
    {
      "cell_type": "code",
      "source": [
        "hombres = float(input(\"¿cuantos hombres estudiantes hay?: \"))\n",
        "mujeres = float(input(\"¿cuantas mujeres estudiantes hay?\"))\n",
        "estudiantes = float(input(\"¿numero de estudiantes?\"))\n",
        "numerodeestudiuantes = 48\n",
        "porcentaje = estudiantes * 0.30\n",
        "totalhombresymujeres = (hombres + mujeres)/2\n",
        "totalhombresymujeres = round((hombres + mujeres)/2 , 2)\n",
        "print(\"el porcentaje de hombres y mujeres es = {}\".format(totalhombresymujeres))\n",
        "print(f\"el porcentaje de hombres y mujeres es = {totalhombresymujeres}\")\n",
        "print(\"el porcentaje de hombres y mujeres es = {:,.0f}\".format(totalhombresymujeres))"
      ],
      "metadata": {
        "colab": {
          "base_uri": "https://localhost:8080/"
        },
        "id": "JLJBAHSi4HUj",
        "outputId": "67c75642-f131-49b6-bad5-53f8f6325f2d"
      },
      "execution_count": null,
      "outputs": [
        {
          "output_type": "stream",
          "name": "stdout",
          "text": [
            "¿cuantos hombres estudiantes hay?: 32\n",
            "¿cuantas mujeres estudiantes hay?16\n",
            "¿numero de estudiantes?48\n",
            "el porcentaje de hombres y mujeres es = 24.0\n",
            "el porcentaje de hombres y mujeres es = 24.0\n",
            "el porcentaje de hombres y mujeres es = 24\n"
          ]
        }
      ]
    }
  ]
}